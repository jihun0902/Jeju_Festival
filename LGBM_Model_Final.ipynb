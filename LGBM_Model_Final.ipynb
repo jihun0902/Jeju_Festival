{
 "cells": [
  {
   "cell_type": "markdown",
   "metadata": {},
   "source": [
    "# Jeju Competition with LGBM"
   ]
  },
  {
   "cell_type": "code",
   "execution_count": 1,
   "metadata": {},
   "outputs": [
    {
     "data": {
      "text/plain": [
       "'\\n다음의 순서로 진행\\n1. 필요 모듈 불러오기\\n2. 데이터 불러오기\\n3. EDA\\n4. 데이터 시각화\\n5. Data Cleaning\\n6. Model Fitting\\n7. Prediction\\n'"
      ]
     },
     "execution_count": 1,
     "metadata": {},
     "output_type": "execute_result"
    }
   ],
   "source": [
    "'''\n",
    "다음의 순서로 진행\n",
    "1. 필요 모듈 불러오기\n",
    "2. 데이터 불러오기\n",
    "3. EDA\n",
    "4. 데이터 시각화\n",
    "5. Data Cleaning\n",
    "6. Model Fitting\n",
    "7. Prediction\n",
    "'''"
   ]
  },
  {
   "cell_type": "markdown",
   "metadata": {},
   "source": [
    "## 1. 필요 모듈 불러오기"
   ]
  },
  {
   "cell_type": "code",
   "execution_count": 2,
   "metadata": {},
   "outputs": [
    {
     "name": "stdout",
     "output_type": "stream",
     "text": [
      "버전:  3.2.2\n",
      "설치 위치:  /opt/anaconda3/envs/venv1/lib/python3.7/site-packages/matplotlib/__init__.py\n",
      "설정 위치:  /Users/keom/.matplotlib\n",
      "캐시 위치:  /Users/keom/.matplotlib\n",
      "설정파일 위치:  /opt/anaconda3/envs/venv1/lib/python3.7/site-packages/matplotlib/mpl-data/matplotlibrc\n",
      "362\n"
     ]
    },
    {
     "name": "stderr",
     "output_type": "stream",
     "text": [
      "/opt/anaconda3/envs/venv1/lib/python3.7/site-packages/ipykernel_launcher.py:27: MatplotlibDeprecationWarning: \n",
      "The OSXInstalledFonts function was deprecated in Matplotlib 3.1 and will be removed in 3.3.\n"
     ]
    },
    {
     "data": {
      "text/plain": [
       "[('Noto Sans Gothic',\n",
       "  '/System/Library/Fonts/Supplemental/NotoSansGothic-Regular.ttf'),\n",
       " ('Apple SD Gothic Neo', '/System/Library/Fonts/AppleSDGothicNeo.ttc'),\n",
       " ('AppleGothic', '/System/Library/Fonts/Supplemental/AppleGothic.ttf'),\n",
       " ('Hiragino Maru Gothic Pro', '/System/Library/Fonts/ヒラギノ丸ゴ ProN W4.ttc')]"
      ]
     },
     "execution_count": 2,
     "metadata": {},
     "output_type": "execute_result"
    }
   ],
   "source": [
    "import pandas as pd\n",
    "import numpy as np\n",
    "import seaborn as sns\n",
    "import sklearn \n",
    "from tqdm import tqdm_notebook, tqdm\n",
    "from sklearn.ensemble import RandomForestRegressor\n",
    "from sklearn.preprocessing import LabelEncoder, OneHotEncoder\n",
    "import matplotlib as mpl\n",
    "import matplotlib.pyplot as plt\n",
    "import matplotlib.font_manager as fm\n",
    "from matplotlib import font_manager,rc\n",
    "import matplotlib\n",
    "import update\n",
    "import jeju as jeju\n",
    "\n",
    "# 그래프에서 마이너스 폰트 깨지는 문제에 대한 대처\n",
    "mpl.rcParams['axes.unicode_minus'] = False\n",
    "%matplotlib inline\n",
    "\n",
    "print ('버전: ', mpl.__version__)\n",
    "print ('설치 위치: ', mpl.__file__)\n",
    "print ('설정 위치: ', mpl.get_configdir())\n",
    "print ('캐시 위치: ', mpl.get_cachedir())\n",
    "\n",
    "print ('설정파일 위치: ', mpl.matplotlib_fname())\n",
    "\n",
    "font_list_mac = fm.OSXInstalledFonts()\n",
    "print(len(font_list_mac))\n",
    "\n",
    "[(f.name, f.fname) for f in fm.fontManager.ttflist if 'Gothic' in f.name]"
   ]
  },
  {
   "cell_type": "code",
   "execution_count": 3,
   "metadata": {},
   "outputs": [
    {
     "name": "stdout",
     "output_type": "stream",
     "text": [
      "Pandas : 1.0.5\n",
      "Numpy : 1.18.5\n",
      "Scikit-Learn : 0.23.1\n",
      "Python 3.7.7\n"
     ]
    }
   ],
   "source": [
    "#폰트 경로\n",
    "font_path = \"/System/Library/Fonts/Supplemental/AppleGothic.ttf\"\n",
    " \n",
    "#폰트 이름 얻어오기\n",
    "font_name = font_manager.FontProperties(fname=font_path).get_name()\n",
    " \n",
    "#font 설정\n",
    "matplotlib.rc('font',family=font_name)\n",
    "\n",
    "print('Pandas : %s'%(pd.__version__))\n",
    "print('Numpy : %s'%(np.__version__))\n",
    "print('Scikit-Learn : %s'%(sklearn.__version__))\n",
    "!python --version"
   ]
  },
  {
   "cell_type": "markdown",
   "metadata": {},
   "source": [
    "## 2. 원데이터 불러오기"
   ]
  },
  {
   "cell_type": "code",
   "execution_count": 4,
   "metadata": {},
   "outputs": [
    {
     "data": {
      "text/html": [
       "<div>\n",
       "<style scoped>\n",
       "    .dataframe tbody tr th:only-of-type {\n",
       "        vertical-align: middle;\n",
       "    }\n",
       "\n",
       "    .dataframe tbody tr th {\n",
       "        vertical-align: top;\n",
       "    }\n",
       "\n",
       "    .dataframe thead th {\n",
       "        text-align: right;\n",
       "    }\n",
       "</style>\n",
       "<table border=\"1\" class=\"dataframe\">\n",
       "  <thead>\n",
       "    <tr style=\"text-align: right;\">\n",
       "      <th></th>\n",
       "      <th>REG_YYMM</th>\n",
       "      <th>CARD_SIDO_NM</th>\n",
       "      <th>CARD_CCG_NM</th>\n",
       "      <th>STD_CLSS_NM</th>\n",
       "      <th>HOM_SIDO_NM</th>\n",
       "      <th>HOM_CCG_NM</th>\n",
       "      <th>AGE</th>\n",
       "      <th>SEX_CTGO_CD</th>\n",
       "      <th>FLC</th>\n",
       "      <th>CSTMR_CNT</th>\n",
       "      <th>AMT</th>\n",
       "      <th>CNT</th>\n",
       "    </tr>\n",
       "  </thead>\n",
       "  <tbody>\n",
       "    <tr>\n",
       "      <th>1350317</th>\n",
       "      <td>202004</td>\n",
       "      <td>충북</td>\n",
       "      <td>충주시</td>\n",
       "      <td>휴양콘도 운영업</td>\n",
       "      <td>충북</td>\n",
       "      <td>충주시</td>\n",
       "      <td>20s</td>\n",
       "      <td>1</td>\n",
       "      <td>1</td>\n",
       "      <td>5</td>\n",
       "      <td>77000</td>\n",
       "      <td>5</td>\n",
       "    </tr>\n",
       "    <tr>\n",
       "      <th>1350318</th>\n",
       "      <td>202004</td>\n",
       "      <td>충북</td>\n",
       "      <td>충주시</td>\n",
       "      <td>휴양콘도 운영업</td>\n",
       "      <td>충북</td>\n",
       "      <td>충주시</td>\n",
       "      <td>30s</td>\n",
       "      <td>1</td>\n",
       "      <td>2</td>\n",
       "      <td>6</td>\n",
       "      <td>92000</td>\n",
       "      <td>6</td>\n",
       "    </tr>\n",
       "    <tr>\n",
       "      <th>1350319</th>\n",
       "      <td>202004</td>\n",
       "      <td>충북</td>\n",
       "      <td>충주시</td>\n",
       "      <td>휴양콘도 운영업</td>\n",
       "      <td>충북</td>\n",
       "      <td>충주시</td>\n",
       "      <td>40s</td>\n",
       "      <td>2</td>\n",
       "      <td>3</td>\n",
       "      <td>5</td>\n",
       "      <td>193000</td>\n",
       "      <td>5</td>\n",
       "    </tr>\n",
       "    <tr>\n",
       "      <th>1350320</th>\n",
       "      <td>202004</td>\n",
       "      <td>충북</td>\n",
       "      <td>충주시</td>\n",
       "      <td>휴양콘도 운영업</td>\n",
       "      <td>충북</td>\n",
       "      <td>충주시</td>\n",
       "      <td>50s</td>\n",
       "      <td>1</td>\n",
       "      <td>4</td>\n",
       "      <td>5</td>\n",
       "      <td>86000</td>\n",
       "      <td>7</td>\n",
       "    </tr>\n",
       "    <tr>\n",
       "      <th>1350321</th>\n",
       "      <td>202004</td>\n",
       "      <td>충북</td>\n",
       "      <td>충주시</td>\n",
       "      <td>휴양콘도 운영업</td>\n",
       "      <td>충북</td>\n",
       "      <td>충주시</td>\n",
       "      <td>60s</td>\n",
       "      <td>2</td>\n",
       "      <td>5</td>\n",
       "      <td>3</td>\n",
       "      <td>227000</td>\n",
       "      <td>4</td>\n",
       "    </tr>\n",
       "  </tbody>\n",
       "</table>\n",
       "</div>"
      ],
      "text/plain": [
       "         REG_YYMM CARD_SIDO_NM CARD_CCG_NM STD_CLSS_NM HOM_SIDO_NM HOM_CCG_NM  \\\n",
       "1350317    202004           충북         충주시    휴양콘도 운영업          충북        충주시   \n",
       "1350318    202004           충북         충주시    휴양콘도 운영업          충북        충주시   \n",
       "1350319    202004           충북         충주시    휴양콘도 운영업          충북        충주시   \n",
       "1350320    202004           충북         충주시    휴양콘도 운영업          충북        충주시   \n",
       "1350321    202004           충북         충주시    휴양콘도 운영업          충북        충주시   \n",
       "\n",
       "         AGE  SEX_CTGO_CD  FLC  CSTMR_CNT     AMT  CNT  \n",
       "1350317  20s            1    1          5   77000    5  \n",
       "1350318  30s            1    2          6   92000    6  \n",
       "1350319  40s            2    3          5  193000    5  \n",
       "1350320  50s            1    4          5   86000    7  \n",
       "1350321  60s            2    5          3  227000    4  "
      ]
     },
     "execution_count": 4,
     "metadata": {},
     "output_type": "execute_result"
    }
   ],
   "source": [
    "data = pd.read_csv('./jeju_data_ver1/201901-202003.csv')\n",
    "data_04 = pd.read_csv('./202004.csv')\n",
    "data = pd.concat([data, data_04], axis=0)\n",
    "data.tail()"
   ]
  },
  {
   "cell_type": "markdown",
   "metadata": {},
   "source": [
    "## 3. EDA"
   ]
  },
  {
   "cell_type": "code",
   "execution_count": 5,
   "metadata": {},
   "outputs": [
    {
     "data": {
      "text/html": [
       "<div>\n",
       "<style scoped>\n",
       "    .dataframe tbody tr th:only-of-type {\n",
       "        vertical-align: middle;\n",
       "    }\n",
       "\n",
       "    .dataframe tbody tr th {\n",
       "        vertical-align: top;\n",
       "    }\n",
       "\n",
       "    .dataframe thead th {\n",
       "        text-align: right;\n",
       "    }\n",
       "</style>\n",
       "<table border=\"1\" class=\"dataframe\">\n",
       "  <thead>\n",
       "    <tr style=\"text-align: right;\">\n",
       "      <th></th>\n",
       "      <th>0</th>\n",
       "    </tr>\n",
       "  </thead>\n",
       "  <tbody>\n",
       "    <tr>\n",
       "      <th>REG_YYMM</th>\n",
       "      <td>0.000000</td>\n",
       "    </tr>\n",
       "    <tr>\n",
       "      <th>CARD_SIDO_NM</th>\n",
       "      <td>0.000000</td>\n",
       "    </tr>\n",
       "    <tr>\n",
       "      <th>CARD_CCG_NM</th>\n",
       "      <td>0.003546</td>\n",
       "    </tr>\n",
       "    <tr>\n",
       "      <th>STD_CLSS_NM</th>\n",
       "      <td>0.000000</td>\n",
       "    </tr>\n",
       "    <tr>\n",
       "      <th>HOM_SIDO_NM</th>\n",
       "      <td>0.000000</td>\n",
       "    </tr>\n",
       "    <tr>\n",
       "      <th>HOM_CCG_NM</th>\n",
       "      <td>0.005960</td>\n",
       "    </tr>\n",
       "    <tr>\n",
       "      <th>AGE</th>\n",
       "      <td>0.000000</td>\n",
       "    </tr>\n",
       "    <tr>\n",
       "      <th>SEX_CTGO_CD</th>\n",
       "      <td>0.000000</td>\n",
       "    </tr>\n",
       "    <tr>\n",
       "      <th>FLC</th>\n",
       "      <td>0.000000</td>\n",
       "    </tr>\n",
       "    <tr>\n",
       "      <th>CSTMR_CNT</th>\n",
       "      <td>0.000000</td>\n",
       "    </tr>\n",
       "    <tr>\n",
       "      <th>AMT</th>\n",
       "      <td>0.000000</td>\n",
       "    </tr>\n",
       "    <tr>\n",
       "      <th>CNT</th>\n",
       "      <td>0.000000</td>\n",
       "    </tr>\n",
       "  </tbody>\n",
       "</table>\n",
       "</div>"
      ],
      "text/plain": [
       "                     0\n",
       "REG_YYMM      0.000000\n",
       "CARD_SIDO_NM  0.000000\n",
       "CARD_CCG_NM   0.003546\n",
       "STD_CLSS_NM   0.000000\n",
       "HOM_SIDO_NM   0.000000\n",
       "HOM_CCG_NM    0.005960\n",
       "AGE           0.000000\n",
       "SEX_CTGO_CD   0.000000\n",
       "FLC           0.000000\n",
       "CSTMR_CNT     0.000000\n",
       "AMT           0.000000\n",
       "CNT           0.000000"
      ]
     },
     "execution_count": 5,
     "metadata": {},
     "output_type": "execute_result"
    }
   ],
   "source": [
    "categ = ['year', 'month', 'CARD_SIDO_NM', 'STD_CLSS_NM', 'HOM_SIDO_NM', 'AGE', 'SEX_CTGO_CD', 'FLC']\n",
    "\n",
    "pd.DataFrame(data.isna().sum()/data.shape[0])"
   ]
  },
  {
   "cell_type": "code",
   "execution_count": 7,
   "metadata": {},
   "outputs": [
    {
     "data": {
      "text/plain": [
       "REG_YYMM        0.000000\n",
       "CARD_SIDO_NM    0.000000\n",
       "CARD_CCG_NM     0.003546\n",
       "STD_CLSS_NM     0.000000\n",
       "HOM_SIDO_NM     0.000000\n",
       "HOM_CCG_NM      0.005960\n",
       "AGE             0.000000\n",
       "SEX_CTGO_CD     0.000000\n",
       "FLC             0.000000\n",
       "CSTMR_CNT       0.000000\n",
       "AMT             0.000000\n",
       "CNT             0.000000\n",
       "dtype: float64"
      ]
     },
     "execution_count": 7,
     "metadata": {},
     "output_type": "execute_result"
    }
   ],
   "source": [
    "data.isna().sum()/data.shape[0]"
   ]
  },
  {
   "cell_type": "code",
   "execution_count": 8,
   "metadata": {},
   "outputs": [],
   "source": [
    "categorical = [\"CARD_SIDO_NM\", \"STD_CLSS_NM\", \"HOM_SIDO_NM\", \n",
    "               \"AGE\", \"SEX_CTGO_CD\", \"FLC\"]\n",
    "numerical = [\"AMT\", \"CSTMR_CNT\", \"CNT\"]"
   ]
  },
  {
   "cell_type": "code",
   "execution_count": 9,
   "metadata": {},
   "outputs": [
    {
     "data": {
      "text/plain": [
       "(                AMT     CSTMR_CNT           CNT\n",
       " count  1.668675e+06  1.668675e+06  1.668675e+06\n",
       " mean   2.460281e+06  6.213135e+01  1.256076e+02\n",
       " std    1.742438e+07  3.547908e+02  9.351468e+02\n",
       " min    1.000000e+03  3.000000e+00  1.000000e+00\n",
       " 25%    9.140000e+04  4.000000e+00  5.000000e+00\n",
       " 50%    2.549800e+05  8.000000e+00  1.200000e+01\n",
       " 75%    8.522000e+05  2.400000e+01  4.100000e+01\n",
       " max    2.214023e+09  3.098500e+04  1.008540e+05,\n",
       "                 AMT     CSTMR_CNT           CNT\n",
       " count  1.260508e+06  1.260508e+06  1.260508e+06\n",
       " mean   2.727380e+06  6.565853e+01  1.421883e+02\n",
       " std    1.846216e+07  3.584025e+02  1.051153e+03\n",
       " min    2.000000e+02  3.000000e+00  1.000000e+00\n",
       " 25%    1.000000e+05  4.000000e+00  6.000000e+00\n",
       " 50%    2.789300e+05  8.000000e+00  1.300000e+01\n",
       " 75%    9.395000e+05  2.600000e+01  4.400000e+01\n",
       " max    1.929126e+09  2.820500e+04  1.061180e+05)"
      ]
     },
     "execution_count": 9,
     "metadata": {},
     "output_type": "execute_result"
    }
   ],
   "source": [
    "D1903 = data[data[\"REG_YYMM\"]==201903]\n",
    "D2003 = data[data[\"REG_YYMM\"]==202003]\n",
    "\n",
    "D1903[numerical].describe(), D2003[numerical].describe()"
   ]
  },
  {
   "cell_type": "markdown",
   "metadata": {},
   "source": [
    "## 데이터 시각화"
   ]
  },
  {
   "cell_type": "code",
   "execution_count": 10,
   "metadata": {},
   "outputs": [],
   "source": [
    "by_date = pd.DataFrame(data.groupby(['REG_YYMM']).sum())"
   ]
  },
  {
   "cell_type": "code",
   "execution_count": 11,
   "metadata": {},
   "outputs": [
    {
     "data": {
      "text/plain": [
       "<Figure size 432x288 with 0 Axes>"
      ]
     },
     "metadata": {},
     "output_type": "display_data"
    },
    {
     "data": {
      "image/png": "[encoded data removed]",
      "text/plain": [
       "<Figure size 864x288 with 2 Axes>"
      ]
     },
     "metadata": {
      "needs_background": "light"
     },
     "output_type": "display_data"
    }
   ],
   "source": [
    "fig = plt.figure()\n",
    "fig.suptitle('월별 카드 사용 총액 / 건수')\n",
    "\n",
    "fig, ax_lst = plt.subplots(1, 2, figsize=(12,4))\n",
    "\n",
    "ax_lst[0].plot(np.array(by_date[\"AMT\"]), 'ko-')\n",
    "ax_lst[1].plot(np.array(by_date[\"CNT\"]), 'bo-')\n",
    "plt.show()"
   ]
  },
  {
   "cell_type": "code",
   "execution_count": 12,
   "metadata": {},
   "outputs": [],
   "source": [
    "by_area = pd.DataFrame(data.groupby(['CARD_SIDO_NM']).sum().reset_index(drop=False))"
   ]
  },
  {
   "cell_type": "code",
   "execution_count": 13,
   "metadata": {},
   "outputs": [
    {
     "data": {
      "text/plain": [
       "<Figure size 432x288 with 0 Axes>"
      ]
     },
     "metadata": {},
     "output_type": "display_data"
    },
    {
     "data": {
      "image/png": "[encoded data removed]",
      "text/plain": [
       "<Figure size 864x288 with 2 Axes>"
      ]
     },
     "metadata": {
      "needs_background": "light"
     },
     "output_type": "display_data"
    }
   ],
   "source": [
    "fig = plt.figure()\n",
    "fig.suptitle('지역별 카드 사용 총액 / 건수')\n",
    "\n",
    "fig, ax_lst = plt.subplots(1, 2, figsize=(12,4))\n",
    "\n",
    "ax_lst[0].bar(by_area[\"CARD_SIDO_NM\"], list(by_area[\"AMT\"]))\n",
    "ax_lst[1].bar(by_area[\"CARD_SIDO_NM\"], list(by_area[\"CNT\"]))\n",
    "plt.show()"
   ]
  },
  {
   "cell_type": "code",
   "execution_count": 14,
   "metadata": {},
   "outputs": [],
   "source": [
    "by_ind = pd.DataFrame(data.groupby(['STD_CLSS_NM', 'REG_YYMM']).sum())\n",
    "by_ind_change = by_ind[[\"AMT\", \"CNT\"]].pct_change().fillna(0)"
   ]
  },
  {
   "cell_type": "code",
   "execution_count": 15,
   "metadata": {},
   "outputs": [
    {
     "name": "stdout",
     "output_type": "stream",
     "text": [
      "                           AMT       CNT\n",
      "STD_CLSS_NM REG_YYMM                    \n",
      "건강보조식품 소매업  201901    0.000000  0.000000\n",
      "            201902   -0.105646 -0.099433\n",
      "            201903   -0.180366  0.011145\n",
      "            201904   -0.018749 -0.025641\n",
      "            201905    0.281277  0.158889\n",
      "...                        ...       ...\n",
      "휴양콘도 운영업    201912    0.588254  0.755197\n",
      "            202001    0.676276  0.642190\n",
      "            202002   -0.626101 -0.593544\n",
      "            202003   -0.670386 -0.723967\n",
      "            202004    0.017943  0.020571\n",
      "\n",
      "[656 rows x 2 columns]\n"
     ]
    }
   ],
   "source": [
    "by_ind = pd.DataFrame(data.groupby(['STD_CLSS_NM', 'REG_YYMM']).sum())\n",
    "by_ind_change = by_ind[[\"AMT\", \"CNT\"]].pct_change().fillna(0)\n",
    "print(by_ind_change)"
   ]
  },
  {
   "cell_type": "code",
   "execution_count": 16,
   "metadata": {},
   "outputs": [
    {
     "data": {
      "image/png": "[encoded data removed]",
      "text/plain": [
       "<Figure size 432x288 with 1 Axes>"
      ]
     },
     "metadata": {
      "needs_background": "light"
     },
     "output_type": "display_data"
    }
   ],
   "source": [
    "plot = by_ind_change.filter(like='휴양콘도', axis=0).plot()\n",
    "plot.axhline(y=0, xmin=0, xmax=1, color=\"k\")\n",
    "plt.show()"
   ]
  },
  {
   "cell_type": "code",
   "execution_count": 17,
   "metadata": {},
   "outputs": [
    {
     "data": {
      "image/png": "[encoded data removed]",
      "text/plain": [
       "<Figure size 432x288 with 1 Axes>"
      ]
     },
     "metadata": {
      "needs_background": "light"
     },
     "output_type": "display_data"
    }
   ],
   "source": [
    "plot = by_ind_change.filter(like='건강보조', axis=0).plot()\n",
    "plot.axhline(y=0, xmin=0, xmax=1, color=\"k\")\n",
    "plt.show()"
   ]
  },
  {
   "cell_type": "code",
   "execution_count": 18,
   "metadata": {},
   "outputs": [
    {
     "data": {
      "image/png": "[encoded data removed]",
      "text/plain": [
       "<Figure size 432x288 with 1 Axes>"
      ]
     },
     "metadata": {
      "needs_background": "light"
     },
     "output_type": "display_data"
    }
   ],
   "source": [
    "plot = by_ind_change.filter(like='편의점', axis=0).plot()\n",
    "plot.axhline(y=0, xmin=0, xmax=1, color=\"k\")\n",
    "plt.show()"
   ]
  },
  {
   "cell_type": "code",
   "execution_count": 19,
   "metadata": {},
   "outputs": [
    {
     "data": {
      "image/png": "[encoded data removed]",
      "text/plain": [
       "<Figure size 432x288 with 1 Axes>"
      ]
     },
     "metadata": {
      "needs_background": "light"
     },
     "output_type": "display_data"
    }
   ],
   "source": [
    "plot = by_ind_change.filter(like='택시', axis=0).plot()\n",
    "plot.axhline(y=0, xmin=0, xmax=1, color=\"k\")\n",
    "plt.show()"
   ]
  },
  {
   "cell_type": "code",
   "execution_count": 20,
   "metadata": {},
   "outputs": [
    {
     "data": {
      "image/png": "[encoded data removed]",
      "text/plain": [
       "<Figure size 432x288 with 1 Axes>"
      ]
     },
     "metadata": {
      "needs_background": "light"
     },
     "output_type": "display_data"
    }
   ],
   "source": [
    "plot = by_ind_change.filter(like='스포츠 및', axis=0).plot()\n",
    "plot.axhline(y=0, xmin=0, xmax=1, color=\"k\")\n",
    "plt.show()"
   ]
  },
  {
   "cell_type": "code",
   "execution_count": 21,
   "metadata": {},
   "outputs": [
    {
     "data": {
      "image/png": "[encoded data removed]",
      "text/plain": [
       "<Figure size 432x288 with 1 Axes>"
      ]
     },
     "metadata": {
      "needs_background": "light"
     },
     "output_type": "display_data"
    }
   ],
   "source": [
    "plot = by_ind_change.filter(like='일반유흥 주점업', axis=0).plot()\n",
    "plot.axhline(y=0, xmin=0, xmax=1, color=\"k\")\n",
    "plt.show()"
   ]
  },
  {
   "cell_type": "code",
   "execution_count": 22,
   "metadata": {},
   "outputs": [
    {
     "data": {
      "image/png": "[encoded data removed]",
      "text/plain": [
       "<Figure size 432x288 with 1 Axes>"
      ]
     },
     "metadata": {
      "needs_background": "light"
     },
     "output_type": "display_data"
    }
   ],
   "source": [
    "plot = by_ind_change.filter(like='마사지업', axis=0).plot()\n",
    "plot.axhline(y=0, xmin=0, xmax=1, color=\"k\")\n",
    "plt.show()"
   ]
  },
  {
   "cell_type": "markdown",
   "metadata": {},
   "source": [
    "## Data Cleaning"
   ]
  },
  {
   "cell_type": "code",
   "execution_count": 23,
   "metadata": {},
   "outputs": [
    {
     "name": "stderr",
     "output_type": "stream",
     "text": [
      "/opt/anaconda3/envs/venv1/lib/python3.7/site-packages/ipykernel_launcher.py:1: TqdmDeprecationWarning: This function will be removed in tqdm==5.0.0\n",
      "Please use `tqdm.notebook.tqdm` instead of `tqdm.tqdm_notebook`\n",
      "  \"\"\"Entry point for launching an IPython kernel.\n"
     ]
    },
    {
     "data": {
      "application/vnd.jupyter.widget-view+json": {
       "model_id": "c17356a2b97f4c08b5fe1bfc96f89740",
       "version_major": 2,
       "version_minor": 0
      },
      "text/plain": [
       "HBox(children=(FloatProgress(value=0.0, max=26048114.0), HTML(value='')))"
      ]
     },
     "metadata": {},
     "output_type": "display_data"
    },
    {
     "name": "stdout",
     "output_type": "stream",
     "text": [
      "\n"
     ]
    },
    {
     "name": "stderr",
     "output_type": "stream",
     "text": [
      "/opt/anaconda3/envs/venv1/lib/python3.7/site-packages/ipykernel_launcher.py:2: TqdmDeprecationWarning: This function will be removed in tqdm==5.0.0\n",
      "Please use `tqdm.notebook.tqdm` instead of `tqdm.tqdm_notebook`\n",
      "  \n"
     ]
    },
    {
     "data": {
      "application/vnd.jupyter.widget-view+json": {
       "model_id": "01753556d7fe48ddb3424b46c75e12d8",
       "version_major": 2,
       "version_minor": 0
      },
      "text/plain": [
       "HBox(children=(FloatProgress(value=0.0, max=26048114.0), HTML(value='')))"
      ]
     },
     "metadata": {},
     "output_type": "display_data"
    },
    {
     "name": "stdout",
     "output_type": "stream",
     "text": [
      "\n"
     ]
    }
   ],
   "source": [
    "data['year'] = tqdm_notebook(data[\"REG_YYMM\"].apply(lambda x: jeju.grap_year(x)))\n",
    "data['month'] = tqdm_notebook(data[\"REG_YYMM\"].apply(lambda x: jeju.grap_month(x)))\n",
    "data = data.drop([\"REG_YYMM\"], axis = 1)"
   ]
  },
  {
   "cell_type": "code",
   "execution_count": 36,
   "metadata": {},
   "outputs": [
    {
     "data": {
      "text/html": [
       "<div>\n",
       "<style scoped>\n",
       "    .dataframe tbody tr th:only-of-type {\n",
       "        vertical-align: middle;\n",
       "    }\n",
       "\n",
       "    .dataframe tbody tr th {\n",
       "        vertical-align: top;\n",
       "    }\n",
       "\n",
       "    .dataframe thead th {\n",
       "        text-align: right;\n",
       "    }\n",
       "</style>\n",
       "<table border=\"1\" class=\"dataframe\">\n",
       "  <thead>\n",
       "    <tr style=\"text-align: right;\">\n",
       "      <th></th>\n",
       "      <th>year</th>\n",
       "      <th>month</th>\n",
       "      <th>CARD_SIDO_NM</th>\n",
       "      <th>STD_CLSS_NM</th>\n",
       "      <th>HOM_SIDO_NM</th>\n",
       "      <th>AGE</th>\n",
       "      <th>SEX_CTGO_CD</th>\n",
       "      <th>FLC</th>\n",
       "      <th>CSTMR_CNT</th>\n",
       "      <th>AMT</th>\n",
       "      <th>CNT</th>\n",
       "    </tr>\n",
       "  </thead>\n",
       "  <tbody>\n",
       "    <tr>\n",
       "      <th>0</th>\n",
       "      <td>2019</td>\n",
       "      <td>1</td>\n",
       "      <td>강원</td>\n",
       "      <td>건강보조식품 소매업</td>\n",
       "      <td>강원</td>\n",
       "      <td>20s</td>\n",
       "      <td>1</td>\n",
       "      <td>1</td>\n",
       "      <td>4</td>\n",
       "      <td>311200</td>\n",
       "      <td>4</td>\n",
       "    </tr>\n",
       "    <tr>\n",
       "      <th>1</th>\n",
       "      <td>2019</td>\n",
       "      <td>1</td>\n",
       "      <td>강원</td>\n",
       "      <td>건강보조식품 소매업</td>\n",
       "      <td>강원</td>\n",
       "      <td>30s</td>\n",
       "      <td>1</td>\n",
       "      <td>2</td>\n",
       "      <td>44</td>\n",
       "      <td>5169295</td>\n",
       "      <td>45</td>\n",
       "    </tr>\n",
       "    <tr>\n",
       "      <th>2</th>\n",
       "      <td>2019</td>\n",
       "      <td>1</td>\n",
       "      <td>강원</td>\n",
       "      <td>건강보조식품 소매업</td>\n",
       "      <td>강원</td>\n",
       "      <td>30s</td>\n",
       "      <td>2</td>\n",
       "      <td>2</td>\n",
       "      <td>89</td>\n",
       "      <td>8618550</td>\n",
       "      <td>91</td>\n",
       "    </tr>\n",
       "    <tr>\n",
       "      <th>3</th>\n",
       "      <td>2019</td>\n",
       "      <td>1</td>\n",
       "      <td>강원</td>\n",
       "      <td>건강보조식품 소매업</td>\n",
       "      <td>강원</td>\n",
       "      <td>40s</td>\n",
       "      <td>1</td>\n",
       "      <td>2</td>\n",
       "      <td>3</td>\n",
       "      <td>454420</td>\n",
       "      <td>3</td>\n",
       "    </tr>\n",
       "    <tr>\n",
       "      <th>4</th>\n",
       "      <td>2019</td>\n",
       "      <td>1</td>\n",
       "      <td>강원</td>\n",
       "      <td>건강보조식품 소매업</td>\n",
       "      <td>강원</td>\n",
       "      <td>40s</td>\n",
       "      <td>1</td>\n",
       "      <td>3</td>\n",
       "      <td>53</td>\n",
       "      <td>6441165</td>\n",
       "      <td>60</td>\n",
       "    </tr>\n",
       "  </tbody>\n",
       "</table>\n",
       "</div>"
      ],
      "text/plain": [
       "   year  month CARD_SIDO_NM STD_CLSS_NM HOM_SIDO_NM  AGE  SEX_CTGO_CD  FLC  \\\n",
       "0  2019      1           강원  건강보조식품 소매업          강원  20s            1    1   \n",
       "1  2019      1           강원  건강보조식품 소매업          강원  30s            1    2   \n",
       "2  2019      1           강원  건강보조식품 소매업          강원  30s            2    2   \n",
       "3  2019      1           강원  건강보조식품 소매업          강원  40s            1    2   \n",
       "4  2019      1           강원  건강보조식품 소매업          강원  40s            1    3   \n",
       "\n",
       "   CSTMR_CNT      AMT  CNT  \n",
       "0          4   311200    4  \n",
       "1         44  5169295   45  \n",
       "2         89  8618550   91  \n",
       "3          3   454420    3  \n",
       "4         53  6441165   60  "
      ]
     },
     "execution_count": 36,
     "metadata": {},
     "output_type": "execute_result"
    }
   ],
   "source": [
    "columns = ['year', 'month', 'CARD_SIDO_NM', \"STD_CLSS_NM\", 'HOM_SIDO_NM', 'AGE', 'SEX_CTGO_CD', 'FLC']\n",
    "df = data.groupby(columns).sum().reset_index(drop=False)\n",
    "df.head()"
   ]
  },
  {
   "cell_type": "code",
   "execution_count": 37,
   "metadata": {},
   "outputs": [],
   "source": [
    "# 인코딩\n",
    "dtypes = df.dtypes\n",
    "encoders = {}\n",
    "for column in df.columns:\n",
    "    if str(dtypes[column]) == 'object':\n",
    "        encoder = LabelEncoder()\n",
    "        encoder.fit(df[column])\n",
    "        encoders[column] = encoder\n",
    "        \n",
    "df_num = df.copy()        \n",
    "for column in encoders.keys():\n",
    "    encoder = encoders[column]\n",
    "    df_num[column] = encoder.transform(df[column])"
   ]
  },
  {
   "cell_type": "code",
   "execution_count": 38,
   "metadata": {},
   "outputs": [
    {
     "name": "stderr",
     "output_type": "stream",
     "text": [
      "  0%|          | 0/1114451 [00:00<?, ?it/s]/opt/anaconda3/envs/venv1/lib/python3.7/site-packages/ipykernel_launcher.py:5: SettingWithCopyWarning: \n",
      "A value is trying to be set on a copy of a slice from a DataFrame\n",
      "\n",
      "See the caveats in the documentation: https://pandas.pydata.org/pandas-docs/stable/user_guide/indexing.html#returning-a-view-versus-a-copy\n",
      "  \"\"\"\n",
      " 78%|███████▊  | 869815/1114451 [00:57<00:15, 15439.23it/s]/opt/anaconda3/envs/venv1/lib/python3.7/site-packages/ipykernel_launcher.py:7: SettingWithCopyWarning: \n",
      "A value is trying to be set on a copy of a slice from a DataFrame\n",
      "\n",
      "See the caveats in the documentation: https://pandas.pydata.org/pandas-docs/stable/user_guide/indexing.html#returning-a-view-versus-a-copy\n",
      "  import sys\n",
      " 85%|████████▍ | 942284/1114451 [01:02<00:12, 13638.99it/s]/opt/anaconda3/envs/venv1/lib/python3.7/site-packages/ipykernel_launcher.py:9: SettingWithCopyWarning: \n",
      "A value is trying to be set on a copy of a slice from a DataFrame\n",
      "\n",
      "See the caveats in the documentation: https://pandas.pydata.org/pandas-docs/stable/user_guide/indexing.html#returning-a-view-versus-a-copy\n",
      "  if __name__ == '__main__':\n",
      "100%|██████████| 1114451/1114451 [01:15<00:00, 14763.53it/s]\n"
     ]
    }
   ],
   "source": [
    "df_num['COVID'] = np.empty((df_num.shape[0],1))\n",
    "\n",
    "for i in tqdm(np.arange(0, df_num.shape[0])):\n",
    "    if df_num.iloc[i,0] == 2019:\n",
    "        df_num['COVID'][i] = 0\n",
    "    elif df_num.iloc[i,1] == 1:\n",
    "        df_num['COVID'][i] = 0\n",
    "    else:\n",
    "        df_num['COVID'][i] = 1"
   ]
  },
  {
   "cell_type": "markdown",
   "metadata": {},
   "source": [
    "([9, 11, 11, 8, 9, 11, 8, 10, 11, 10, 9, 10, 11, 9, 9])"
   ]
  },
  {
   "cell_type": "code",
   "execution_count": 39,
   "metadata": {},
   "outputs": [
    {
     "name": "stderr",
     "output_type": "stream",
     "text": [
      "  0%|          | 0/1114451 [00:00<?, ?it/s]/opt/anaconda3/envs/venv1/lib/python3.7/site-packages/ipykernel_launcher.py:5: SettingWithCopyWarning: \n",
      "A value is trying to be set on a copy of a slice from a DataFrame\n",
      "\n",
      "See the caveats in the documentation: https://pandas.pydata.org/pandas-docs/stable/user_guide/indexing.html#returning-a-view-versus-a-copy\n",
      "  \"\"\"\n",
      "  6%|▋         | 69848/1114451 [00:05<01:16, 13617.11it/s]/opt/anaconda3/envs/venv1/lib/python3.7/site-packages/ipykernel_launcher.py:7: SettingWithCopyWarning: \n",
      "A value is trying to be set on a copy of a slice from a DataFrame\n",
      "\n",
      "See the caveats in the documentation: https://pandas.pydata.org/pandas-docs/stable/user_guide/indexing.html#returning-a-view-versus-a-copy\n",
      "  import sys\n",
      " 13%|█▎        | 140696/1114451 [00:11<01:25, 11407.06it/s]/opt/anaconda3/envs/venv1/lib/python3.7/site-packages/ipykernel_launcher.py:9: SettingWithCopyWarning: \n",
      "A value is trying to be set on a copy of a slice from a DataFrame\n",
      "\n",
      "See the caveats in the documentation: https://pandas.pydata.org/pandas-docs/stable/user_guide/indexing.html#returning-a-view-versus-a-copy\n",
      "  if __name__ == '__main__':\n",
      " 19%|█▉        | 212083/1114451 [00:18<01:30, 10017.65it/s]/opt/anaconda3/envs/venv1/lib/python3.7/site-packages/ipykernel_launcher.py:11: SettingWithCopyWarning: \n",
      "A value is trying to be set on a copy of a slice from a DataFrame\n",
      "\n",
      "See the caveats in the documentation: https://pandas.pydata.org/pandas-docs/stable/user_guide/indexing.html#returning-a-view-versus-a-copy\n",
      "  # This is added back by InteractiveShellApp.init_path()\n",
      " 25%|██▌       | 282851/1114451 [00:26<01:34, 8837.01it/s] /opt/anaconda3/envs/venv1/lib/python3.7/site-packages/ipykernel_launcher.py:13: SettingWithCopyWarning: \n",
      "A value is trying to be set on a copy of a slice from a DataFrame\n",
      "\n",
      "See the caveats in the documentation: https://pandas.pydata.org/pandas-docs/stable/user_guide/indexing.html#returning-a-view-versus-a-copy\n",
      "  del sys.path[0]\n",
      " 32%|███▏      | 357261/1114451 [00:35<01:36, 7882.13it/s]/opt/anaconda3/envs/venv1/lib/python3.7/site-packages/ipykernel_launcher.py:15: SettingWithCopyWarning: \n",
      "A value is trying to be set on a copy of a slice from a DataFrame\n",
      "\n",
      "See the caveats in the documentation: https://pandas.pydata.org/pandas-docs/stable/user_guide/indexing.html#returning-a-view-versus-a-copy\n",
      "  from ipykernel import kernelapp as app\n",
      " 39%|███▊      | 429352/1114451 [00:46<01:36, 7117.72it/s]/opt/anaconda3/envs/venv1/lib/python3.7/site-packages/ipykernel_launcher.py:17: SettingWithCopyWarning: \n",
      "A value is trying to be set on a copy of a slice from a DataFrame\n",
      "\n",
      "See the caveats in the documentation: https://pandas.pydata.org/pandas-docs/stable/user_guide/indexing.html#returning-a-view-versus-a-copy\n",
      " 45%|████▌     | 502115/1114451 [00:57<01:53, 5401.02it/s]/opt/anaconda3/envs/venv1/lib/python3.7/site-packages/ipykernel_launcher.py:19: SettingWithCopyWarning: \n",
      "A value is trying to be set on a copy of a slice from a DataFrame\n",
      "\n",
      "See the caveats in the documentation: https://pandas.pydata.org/pandas-docs/stable/user_guide/indexing.html#returning-a-view-versus-a-copy\n",
      " 52%|█████▏    | 579848/1114451 [01:10<01:30, 5925.10it/s]/opt/anaconda3/envs/venv1/lib/python3.7/site-packages/ipykernel_launcher.py:21: SettingWithCopyWarning: \n",
      "A value is trying to be set on a copy of a slice from a DataFrame\n",
      "\n",
      "See the caveats in the documentation: https://pandas.pydata.org/pandas-docs/stable/user_guide/indexing.html#returning-a-view-versus-a-copy\n",
      " 59%|█████▊    | 651990/1114451 [01:23<01:34, 4882.55it/s]/opt/anaconda3/envs/venv1/lib/python3.7/site-packages/ipykernel_launcher.py:23: SettingWithCopyWarning: \n",
      "A value is trying to be set on a copy of a slice from a DataFrame\n",
      "\n",
      "See the caveats in the documentation: https://pandas.pydata.org/pandas-docs/stable/user_guide/indexing.html#returning-a-view-versus-a-copy\n",
      " 65%|██████▌   | 726527/1114451 [01:38<01:13, 5295.11it/s]/opt/anaconda3/envs/venv1/lib/python3.7/site-packages/ipykernel_launcher.py:25: SettingWithCopyWarning: \n",
      "A value is trying to be set on a copy of a slice from a DataFrame\n",
      "\n",
      "See the caveats in the documentation: https://pandas.pydata.org/pandas-docs/stable/user_guide/indexing.html#returning-a-view-versus-a-copy\n",
      " 72%|███████▏  | 797728/1114451 [01:53<01:06, 4781.80it/s]/opt/anaconda3/envs/venv1/lib/python3.7/site-packages/ipykernel_launcher.py:27: SettingWithCopyWarning: \n",
      "A value is trying to be set on a copy of a slice from a DataFrame\n",
      "\n",
      "See the caveats in the documentation: https://pandas.pydata.org/pandas-docs/stable/user_guide/indexing.html#returning-a-view-versus-a-copy\n",
      " 78%|███████▊  | 870001/1114451 [02:09<00:55, 4415.70it/s]/opt/anaconda3/envs/venv1/lib/python3.7/site-packages/ipykernel_launcher.py:29: SettingWithCopyWarning: \n",
      "A value is trying to be set on a copy of a slice from a DataFrame\n",
      "\n",
      "See the caveats in the documentation: https://pandas.pydata.org/pandas-docs/stable/user_guide/indexing.html#returning-a-view-versus-a-copy\n",
      " 85%|████████▍ | 942264/1114451 [02:20<00:26, 6551.66it/s]/opt/anaconda3/envs/venv1/lib/python3.7/site-packages/ipykernel_launcher.py:31: SettingWithCopyWarning: \n",
      "A value is trying to be set on a copy of a slice from a DataFrame\n",
      "\n",
      "See the caveats in the documentation: https://pandas.pydata.org/pandas-docs/stable/user_guide/indexing.html#returning-a-view-versus-a-copy\n",
      " 90%|████████▉ | 1002361/1114451 [02:30<00:18, 6128.90it/s]/opt/anaconda3/envs/venv1/lib/python3.7/site-packages/ipykernel_launcher.py:33: SettingWithCopyWarning: \n",
      "A value is trying to be set on a copy of a slice from a DataFrame\n",
      "\n",
      "See the caveats in the documentation: https://pandas.pydata.org/pandas-docs/stable/user_guide/indexing.html#returning-a-view-versus-a-copy\n",
      " 95%|█████████▍| 1057014/1114451 [02:39<00:10, 5717.00it/s]/opt/anaconda3/envs/venv1/lib/python3.7/site-packages/ipykernel_launcher.py:35: SettingWithCopyWarning: \n",
      "A value is trying to be set on a copy of a slice from a DataFrame\n",
      "\n",
      "See the caveats in the documentation: https://pandas.pydata.org/pandas-docs/stable/user_guide/indexing.html#returning-a-view-versus-a-copy\n",
      "100%|██████████| 1114451/1114451 [02:50<00:00, 6524.64it/s]\n"
     ]
    }
   ],
   "source": [
    "df_num['holiday'] = np.empty((df_num.shape[0],1))\n",
    "\n",
    "for i in tqdm(np.arange(0, df_num.shape[0])):\n",
    "    if df_num.iloc[i,0] == 2019 and df_num.iloc[i,1] == 1:\n",
    "        df_num['holiday'][i] = 9\n",
    "    elif df_num.iloc[i,0] == 2019 and df_num.iloc[i,1] == 2:\n",
    "        df_num['holiday'][i] = 11\n",
    "    elif df_num.iloc[i,0] == 2019 and df_num.iloc[i,1] == 3:\n",
    "        df_num['holiday'][i] = 11\n",
    "    elif df_num.iloc[i,0] == 2019 and df_num.iloc[i,1] == 4:\n",
    "        df_num['holiday'][i] = 8\n",
    "    elif df_num.iloc[i,0] == 2019 and df_num.iloc[i,1] == 5:\n",
    "        df_num['holiday'][i] = 9\n",
    "    elif df_num.iloc[i,0] == 2019 and df_num.iloc[i,1] == 6:\n",
    "        df_num['holiday'][i] = 11\n",
    "    elif df_num.iloc[i,0] == 2019 and df_num.iloc[i,1] == 7:\n",
    "        df_num['holiday'][i] = 8\n",
    "    elif df_num.iloc[i,0] == 2019 and df_num.iloc[i,1] == 8:\n",
    "        df_num['holiday'][i] = 10\n",
    "    elif df_num.iloc[i,0] == 2019 and df_num.iloc[i,1] == 9:\n",
    "        df_num['holiday'][i] = 11\n",
    "    elif df_num.iloc[i,0] == 2019 and df_num.iloc[i,1] == 10:\n",
    "        df_num['holiday'][i] = 10\n",
    "    elif df_num.iloc[i,0] == 2019 and df_num.iloc[i,1] == 11:\n",
    "        df_num['holiday'][i] = 9\n",
    "    elif df_num.iloc[i,0] == 2019 and df_num.iloc[i,1] == 12:\n",
    "        df_num['holiday'][i] = 10\n",
    "    elif df_num.iloc[i,0] == 2020 and df_num.iloc[i,1] == 1:\n",
    "        df_num['holiday'][i] = 11\n",
    "    elif df_num.iloc[i,0] == 2020 and df_num.iloc[i,1] == 2:\n",
    "        df_num['holiday'][i] = 9\n",
    "    elif df_num.iloc[i,0] == 2020 and df_num.iloc[i,1] == 3:\n",
    "        df_num['holiday'][i] = 9\n",
    "    elif df_num.iloc[i,0] == 2020 and df_num.iloc[i,1] == 4:\n",
    "        df_num['holiday'][i] = 10"
   ]
  },
  {
   "cell_type": "code",
   "execution_count": 40,
   "metadata": {},
   "outputs": [
    {
     "name": "stderr",
     "output_type": "stream",
     "text": [
      "  0%|          | 0/1114451 [00:00<?, ?it/s]/opt/anaconda3/envs/venv1/lib/python3.7/site-packages/ipykernel_launcher.py:5: SettingWithCopyWarning: \n",
      "A value is trying to be set on a copy of a slice from a DataFrame\n",
      "\n",
      "See the caveats in the documentation: https://pandas.pydata.org/pandas-docs/stable/user_guide/indexing.html#returning-a-view-versus-a-copy\n",
      "  \"\"\"\n",
      "/opt/anaconda3/envs/venv1/lib/python3.7/site-packages/ipykernel_launcher.py:7: SettingWithCopyWarning: \n",
      "A value is trying to be set on a copy of a slice from a DataFrame\n",
      "\n",
      "See the caveats in the documentation: https://pandas.pydata.org/pandas-docs/stable/user_guide/indexing.html#returning-a-view-versus-a-copy\n",
      "  import sys\n",
      "100%|██████████| 1114451/1114451 [01:24<00:00, 13117.24it/s]\n"
     ]
    }
   ],
   "source": [
    "df_num['travel'] = np.empty((df_num.shape[0],1))\n",
    "\n",
    "for i in tqdm(range(df_num.shape[0])):\n",
    "    if df_num.iloc[i,2] == df_num.iloc[i,4]:\n",
    "        df_num['travel'][i] = 0\n",
    "    else:\n",
    "        df_num['travel'][i] = 1"
   ]
  },
  {
   "cell_type": "code",
   "execution_count": 41,
   "metadata": {},
   "outputs": [],
   "source": [
    "# 학습데이터 수 늘리기 위한 random noise 데이터 추가 생성\n",
    "df_num2 = df_num.copy()\n",
    "df_num2['AMT'] = df_num2['AMT'] + np.random.normal(0,200, df_num2.shape[0])\n",
    "df_num3 = df_num.copy()\n",
    "df_num3['AMT'] = df_num3['AMT'] + np.random.normal(0,200, df_num3.shape[0])\n",
    "df_num4 = df_num.copy()\n",
    "df_num4['AMT'] = df_num4['AMT'] + np.random.normal(0,200, df_num4.shape[0])\n",
    "df_num5 = df_num.copy()\n",
    "df_num5['AMT'] = df_num5['AMT'] + np.random.normal(0,200, df_num5.shape[0])\n",
    "\n",
    "df_com = pd.concat([df_num, df_num2, df_num3, df_num4, df_num5], axis=0)"
   ]
  },
  {
   "cell_type": "code",
   "execution_count": 42,
   "metadata": {},
   "outputs": [
    {
     "data": {
      "text/plain": [
       "0"
      ]
     },
     "execution_count": 42,
     "metadata": {},
     "output_type": "execute_result"
    }
   ],
   "source": [
    "(df_com['AMT']<0).sum()"
   ]
  },
  {
   "cell_type": "markdown",
   "metadata": {},
   "source": [
    "## Model Fitting"
   ]
  },
  {
   "cell_type": "code",
   "execution_count": 43,
   "metadata": {},
   "outputs": [],
   "source": [
    "import lightgbm as lgb\n",
    "\n",
    "train_num = df_com.sample(frac=1, random_state=0)\n",
    "x = train_num.drop(['CSTMR_CNT', 'AMT', 'CNT'], axis=1)\n",
    "y = np.log1p(train_num['AMT'])"
   ]
  },
  {
   "cell_type": "code",
   "execution_count": 44,
   "metadata": {},
   "outputs": [],
   "source": [
    "k = int(len(x)*0.9)\n",
    "\n",
    "x_train = x[:k]\n",
    "y_train = y[:k]\n",
    "x_val = x[k:]\n",
    "y_val = y[k:]"
   ]
  },
  {
   "cell_type": "code",
   "execution_count": 45,
   "metadata": {},
   "outputs": [],
   "source": [
    "train_ds = lgb.Dataset(x_train, label=y_train, categorical_feature=categ, free_raw_data=False)\n",
    "val_ds = lgb.Dataset(x_val, label=y_val, categorical_feature=categ, free_raw_data=False)"
   ]
  },
  {
   "cell_type": "code",
   "execution_count": 46,
   "metadata": {},
   "outputs": [],
   "source": [
    "params = {\n",
    "            'learning_rate' : 0.05,\n",
    "            'boosting_type': 'gbdt',\n",
    "            'objective': 'tweedie',\n",
    "            'tweedie_variance_power': 1.1,\n",
    "            'metric': 'rmse',\n",
    "            'sub_row' : 0.75,\n",
    "            'lambda_l2' : 0.1\n",
    "        }"
   ]
  },
  {
   "cell_type": "code",
   "execution_count": 47,
   "metadata": {},
   "outputs": [
    {
     "name": "stderr",
     "output_type": "stream",
     "text": [
      "/opt/anaconda3/envs/venv1/lib/python3.7/site-packages/lightgbm/basic.py:1291: UserWarning: Using categorical_feature in Dataset.\n",
      "  warnings.warn('Using categorical_feature in Dataset.')\n"
     ]
    },
    {
     "name": "stdout",
     "output_type": "stream",
     "text": [
      "Training until validation scores don't improve for 100 rounds\n",
      "[100]\tvalid_0's rmse: 1.41155\n",
      "[200]\tvalid_0's rmse: 1.17661\n",
      "[300]\tvalid_0's rmse: 1.05904\n",
      "[400]\tvalid_0's rmse: 0.984715\n",
      "[500]\tvalid_0's rmse: 0.938368\n",
      "[600]\tvalid_0's rmse: 0.904037\n",
      "[700]\tvalid_0's rmse: 0.878181\n",
      "[800]\tvalid_0's rmse: 0.855114\n",
      "[900]\tvalid_0's rmse: 0.836152\n",
      "[1000]\tvalid_0's rmse: 0.82039\n",
      "[1100]\tvalid_0's rmse: 0.804813\n",
      "[1200]\tvalid_0's rmse: 0.791433\n",
      "[1300]\tvalid_0's rmse: 0.779618\n",
      "[1400]\tvalid_0's rmse: 0.769335\n",
      "[1500]\tvalid_0's rmse: 0.759618\n",
      "[1600]\tvalid_0's rmse: 0.751435\n",
      "[1700]\tvalid_0's rmse: 0.743731\n",
      "[1800]\tvalid_0's rmse: 0.737399\n",
      "[1900]\tvalid_0's rmse: 0.729872\n",
      "[2000]\tvalid_0's rmse: 0.724272\n",
      "[2100]\tvalid_0's rmse: 0.718503\n",
      "[2200]\tvalid_0's rmse: 0.712833\n",
      "[2300]\tvalid_0's rmse: 0.707731\n",
      "[2400]\tvalid_0's rmse: 0.703289\n",
      "[2500]\tvalid_0's rmse: 0.698479\n",
      "[2600]\tvalid_0's rmse: 0.694606\n",
      "[2700]\tvalid_0's rmse: 0.690806\n",
      "[2800]\tvalid_0's rmse: 0.687399\n",
      "[2900]\tvalid_0's rmse: 0.683727\n",
      "[3000]\tvalid_0's rmse: 0.680467\n",
      "Did not meet early stopping. Best iteration is:\n",
      "[3000]\tvalid_0's rmse: 0.680467\n"
     ]
    }
   ],
   "source": [
    "model = lgb.train(params,\n",
    "                  train_ds,\n",
    "                  3000,\n",
    "                  val_ds,\n",
    "                  verbose_eval = 100,\n",
    "                  early_stopping_rounds = 100\n",
    "                 )"
   ]
  },
  {
   "cell_type": "code",
   "execution_count": 48,
   "metadata": {},
   "outputs": [
    {
     "data": {
      "text/plain": [
       "['jeju_lgb.pkl']"
      ]
     },
     "execution_count": 48,
     "metadata": {},
     "output_type": "execute_result"
    }
   ],
   "source": [
    "import joblib\n",
    "\n",
    "joblib.dump(model, 'jeju_lgb.pkl')"
   ]
  },
  {
   "cell_type": "raw",
   "metadata": {},
   "source": [
    "model = joblib.load('jeju_lgb.pkl')"
   ]
  },
  {
   "cell_type": "code",
   "execution_count": 49,
   "metadata": {},
   "outputs": [],
   "source": [
    "# 예측 템플릿 만들기\n",
    "years         = [2020]\n",
    "months        = [7]\n",
    "CARD_SIDO_NMs = pd.Series(df_num['CARD_SIDO_NM'].unique())\n",
    "STD_CLSS_NMs  = pd.Series(df_num['STD_CLSS_NM'].unique())\n",
    "HOM_SIDO_NMs  = pd.Series(df_num['HOM_SIDO_NM'].unique())\n",
    "AGEs          = pd.Series(df_num['AGE'].unique())\n",
    "SEX_CTGO_CDs  = pd.Series(df_num['SEX_CTGO_CD'].unique())\n",
    "FLCs          = pd.Series(df_num['FLC'].unique())\n",
    "\n",
    "\n",
    "temp = []\n",
    "for year in years:\n",
    "    for month in months:\n",
    "        for CARD_SIDO_NM in CARD_SIDO_NMs:\n",
    "            for STD_CLSS_NM in STD_CLSS_NMs:\n",
    "                for HOM_SIDO_NM in HOM_SIDO_NMs:\n",
    "                    for AGE in AGEs:\n",
    "                        for SEX_CTGO_CD in SEX_CTGO_CDs:\n",
    "                            for FLC in FLCs:\n",
    "                                temp.append([year, month, CARD_SIDO_NM, STD_CLSS_NM, HOM_SIDO_NM, AGE, SEX_CTGO_CD, FLC])\n",
    "\n",
    "                                \n",
    "temp = pd.DataFrame(data=temp, columns = x.columns[:-3])"
   ]
  },
  {
   "cell_type": "code",
   "execution_count": 50,
   "metadata": {},
   "outputs": [],
   "source": [
    "temp['COVID'] = 1\n",
    "\n",
    "temp['holiday'] = np.empty((temp.shape[0],1))\n",
    "temp['travel'] = np.empty((temp.shape[0],1))"
   ]
  },
  {
   "cell_type": "code",
   "execution_count": 51,
   "metadata": {},
   "outputs": [
    {
     "name": "stderr",
     "output_type": "stream",
     "text": [
      "  0%|          | 0/829430 [00:00<?, ?it/s]/opt/anaconda3/envs/venv1/lib/python3.7/site-packages/ipykernel_launcher.py:2: SettingWithCopyWarning: \n",
      "A value is trying to be set on a copy of a slice from a DataFrame\n",
      "\n",
      "See the caveats in the documentation: https://pandas.pydata.org/pandas-docs/stable/user_guide/indexing.html#returning-a-view-versus-a-copy\n",
      "  \n",
      "100%|██████████| 829430/829430 [00:40<00:00, 20618.32it/s]\n"
     ]
    }
   ],
   "source": [
    "for i in tqdm(np.arange(0, temp.shape[0])):\n",
    "    temp['holiday'][i] = 8"
   ]
  },
  {
   "cell_type": "code",
   "execution_count": 52,
   "metadata": {},
   "outputs": [
    {
     "name": "stderr",
     "output_type": "stream",
     "text": [
      "  0%|          | 0/829430 [00:00<?, ?it/s]/opt/anaconda3/envs/venv1/lib/python3.7/site-packages/ipykernel_launcher.py:3: SettingWithCopyWarning: \n",
      "A value is trying to be set on a copy of a slice from a DataFrame\n",
      "\n",
      "See the caveats in the documentation: https://pandas.pydata.org/pandas-docs/stable/user_guide/indexing.html#returning-a-view-versus-a-copy\n",
      "  This is separate from the ipykernel package so we can avoid doing imports until\n",
      "/opt/anaconda3/envs/venv1/lib/python3.7/site-packages/ipykernel_launcher.py:5: SettingWithCopyWarning: \n",
      "A value is trying to be set on a copy of a slice from a DataFrame\n",
      "\n",
      "See the caveats in the documentation: https://pandas.pydata.org/pandas-docs/stable/user_guide/indexing.html#returning-a-view-versus-a-copy\n",
      "  \"\"\"\n",
      "100%|██████████| 829430/829430 [00:56<00:00, 14783.73it/s]\n"
     ]
    }
   ],
   "source": [
    "for i in tqdm(range(temp.shape[0])):\n",
    "    if temp.iloc[i,2] == temp.iloc[i,4]:\n",
    "        temp['travel'][i] = 0\n",
    "    else:\n",
    "        temp['travel'][i] = 1"
   ]
  },
  {
   "cell_type": "code",
   "execution_count": 53,
   "metadata": {},
   "outputs": [
    {
     "data": {
      "text/html": [
       "<div>\n",
       "<style scoped>\n",
       "    .dataframe tbody tr th:only-of-type {\n",
       "        vertical-align: middle;\n",
       "    }\n",
       "\n",
       "    .dataframe tbody tr th {\n",
       "        vertical-align: top;\n",
       "    }\n",
       "\n",
       "    .dataframe thead th {\n",
       "        text-align: right;\n",
       "    }\n",
       "</style>\n",
       "<table border=\"1\" class=\"dataframe\">\n",
       "  <thead>\n",
       "    <tr style=\"text-align: right;\">\n",
       "      <th></th>\n",
       "      <th>year</th>\n",
       "      <th>month</th>\n",
       "      <th>CARD_SIDO_NM</th>\n",
       "      <th>STD_CLSS_NM</th>\n",
       "      <th>HOM_SIDO_NM</th>\n",
       "      <th>AGE</th>\n",
       "      <th>SEX_CTGO_CD</th>\n",
       "      <th>FLC</th>\n",
       "      <th>COVID</th>\n",
       "      <th>holiday</th>\n",
       "      <th>travel</th>\n",
       "    </tr>\n",
       "  </thead>\n",
       "  <tbody>\n",
       "    <tr>\n",
       "      <th>0</th>\n",
       "      <td>2020</td>\n",
       "      <td>7</td>\n",
       "      <td>0</td>\n",
       "      <td>0</td>\n",
       "      <td>0</td>\n",
       "      <td>1</td>\n",
       "      <td>1</td>\n",
       "      <td>1</td>\n",
       "      <td>1</td>\n",
       "      <td>8.0</td>\n",
       "      <td>0.0</td>\n",
       "    </tr>\n",
       "    <tr>\n",
       "      <th>1</th>\n",
       "      <td>2020</td>\n",
       "      <td>7</td>\n",
       "      <td>0</td>\n",
       "      <td>0</td>\n",
       "      <td>0</td>\n",
       "      <td>1</td>\n",
       "      <td>1</td>\n",
       "      <td>2</td>\n",
       "      <td>1</td>\n",
       "      <td>8.0</td>\n",
       "      <td>0.0</td>\n",
       "    </tr>\n",
       "    <tr>\n",
       "      <th>2</th>\n",
       "      <td>2020</td>\n",
       "      <td>7</td>\n",
       "      <td>0</td>\n",
       "      <td>0</td>\n",
       "      <td>0</td>\n",
       "      <td>1</td>\n",
       "      <td>1</td>\n",
       "      <td>3</td>\n",
       "      <td>1</td>\n",
       "      <td>8.0</td>\n",
       "      <td>0.0</td>\n",
       "    </tr>\n",
       "    <tr>\n",
       "      <th>3</th>\n",
       "      <td>2020</td>\n",
       "      <td>7</td>\n",
       "      <td>0</td>\n",
       "      <td>0</td>\n",
       "      <td>0</td>\n",
       "      <td>1</td>\n",
       "      <td>1</td>\n",
       "      <td>4</td>\n",
       "      <td>1</td>\n",
       "      <td>8.0</td>\n",
       "      <td>0.0</td>\n",
       "    </tr>\n",
       "    <tr>\n",
       "      <th>4</th>\n",
       "      <td>2020</td>\n",
       "      <td>7</td>\n",
       "      <td>0</td>\n",
       "      <td>0</td>\n",
       "      <td>0</td>\n",
       "      <td>1</td>\n",
       "      <td>1</td>\n",
       "      <td>5</td>\n",
       "      <td>1</td>\n",
       "      <td>8.0</td>\n",
       "      <td>0.0</td>\n",
       "    </tr>\n",
       "  </tbody>\n",
       "</table>\n",
       "</div>"
      ],
      "text/plain": [
       "   year  month  CARD_SIDO_NM  STD_CLSS_NM  HOM_SIDO_NM  AGE  SEX_CTGO_CD  FLC  \\\n",
       "0  2020      7             0            0            0    1            1    1   \n",
       "1  2020      7             0            0            0    1            1    2   \n",
       "2  2020      7             0            0            0    1            1    3   \n",
       "3  2020      7             0            0            0    1            1    4   \n",
       "4  2020      7             0            0            0    1            1    5   \n",
       "\n",
       "   COVID  holiday  travel  \n",
       "0      1      8.0     0.0  \n",
       "1      1      8.0     0.0  \n",
       "2      1      8.0     0.0  \n",
       "3      1      8.0     0.0  \n",
       "4      1      8.0     0.0  "
      ]
     },
     "execution_count": 53,
     "metadata": {},
     "output_type": "execute_result"
    }
   ],
   "source": [
    "temp.head()"
   ]
  },
  {
   "cell_type": "code",
   "execution_count": 54,
   "metadata": {},
   "outputs": [],
   "source": [
    "# 예측\n",
    "pred = model.predict(temp)\n",
    "pred = np.expm1(pred)\n",
    "temp['AMT'] = np.round(pred, 0)\n",
    "temp['REG_YYMM'] = temp['year']*100 + temp['month']\n",
    "temp = temp[['REG_YYMM', 'CARD_SIDO_NM', 'STD_CLSS_NM', 'AMT']]\n",
    "temp = temp.groupby(['REG_YYMM', 'CARD_SIDO_NM', 'STD_CLSS_NM']).sum().reset_index(drop=False)"
   ]
  },
  {
   "cell_type": "code",
   "execution_count": 55,
   "metadata": {},
   "outputs": [],
   "source": [
    "# 디코딩 \n",
    "temp['CARD_SIDO_NM'] = encoders['CARD_SIDO_NM'].inverse_transform(temp['CARD_SIDO_NM'])\n",
    "temp['STD_CLSS_NM'] = encoders['STD_CLSS_NM'].inverse_transform(temp['STD_CLSS_NM'])"
   ]
  },
  {
   "cell_type": "code",
   "execution_count": 56,
   "metadata": {},
   "outputs": [
    {
     "data": {
      "text/html": [
       "<div>\n",
       "<style scoped>\n",
       "    .dataframe tbody tr th:only-of-type {\n",
       "        vertical-align: middle;\n",
       "    }\n",
       "\n",
       "    .dataframe tbody tr th {\n",
       "        vertical-align: top;\n",
       "    }\n",
       "\n",
       "    .dataframe thead th {\n",
       "        text-align: right;\n",
       "    }\n",
       "</style>\n",
       "<table border=\"1\" class=\"dataframe\">\n",
       "  <thead>\n",
       "    <tr style=\"text-align: right;\">\n",
       "      <th></th>\n",
       "      <th>REG_YYMM</th>\n",
       "      <th>CARD_SIDO_NM</th>\n",
       "      <th>STD_CLSS_NM</th>\n",
       "      <th>AMT</th>\n",
       "    </tr>\n",
       "  </thead>\n",
       "  <tbody>\n",
       "    <tr>\n",
       "      <th>0</th>\n",
       "      <td>201901</td>\n",
       "      <td>강원</td>\n",
       "      <td>건강보조식품 소매업</td>\n",
       "      <td>148354746</td>\n",
       "    </tr>\n",
       "    <tr>\n",
       "      <th>1</th>\n",
       "      <td>201901</td>\n",
       "      <td>강원</td>\n",
       "      <td>골프장 운영업</td>\n",
       "      <td>1229200312</td>\n",
       "    </tr>\n",
       "    <tr>\n",
       "      <th>2</th>\n",
       "      <td>201901</td>\n",
       "      <td>강원</td>\n",
       "      <td>과실 및 채소 소매업</td>\n",
       "      <td>1286979106</td>\n",
       "    </tr>\n",
       "    <tr>\n",
       "      <th>3</th>\n",
       "      <td>201901</td>\n",
       "      <td>강원</td>\n",
       "      <td>관광 민예품 및 선물용품 소매업</td>\n",
       "      <td>30656770</td>\n",
       "    </tr>\n",
       "    <tr>\n",
       "      <th>4</th>\n",
       "      <td>201901</td>\n",
       "      <td>강원</td>\n",
       "      <td>그외 기타 스포츠시설 운영업</td>\n",
       "      <td>13101500</td>\n",
       "    </tr>\n",
       "  </tbody>\n",
       "</table>\n",
       "</div>"
      ],
      "text/plain": [
       "   REG_YYMM CARD_SIDO_NM        STD_CLSS_NM         AMT\n",
       "0    201901           강원         건강보조식품 소매업   148354746\n",
       "1    201901           강원            골프장 운영업  1229200312\n",
       "2    201901           강원        과실 및 채소 소매업  1286979106\n",
       "3    201901           강원  관광 민예품 및 선물용품 소매업    30656770\n",
       "4    201901           강원    그외 기타 스포츠시설 운영업    13101500"
      ]
     },
     "execution_count": 56,
     "metadata": {},
     "output_type": "execute_result"
    }
   ],
   "source": [
    "df_grp = data.groupby(['year', 'month', 'CARD_SIDO_NM', 'STD_CLSS_NM']).sum().reset_index(\n",
    "    drop=False).iloc[:,[0,1,2,3,7]]\n",
    "df_grp['REG_YYMM'] = df_grp['year']*100 + df_grp['month']\n",
    "df_grp = df_grp[['REG_YYMM', 'CARD_SIDO_NM', 'STD_CLSS_NM', 'AMT']]\n",
    "df_grp = df_grp.groupby(['REG_YYMM', 'CARD_SIDO_NM', 'STD_CLSS_NM']).sum().reset_index(drop=False)\n",
    "df_grp.head()"
   ]
  },
  {
   "cell_type": "code",
   "execution_count": 57,
   "metadata": {},
   "outputs": [
    {
     "name": "stderr",
     "output_type": "stream",
     "text": [
      "100%|██████████| 697/697 [00:00<00:00, 736.04it/s]\n"
     ]
    }
   ],
   "source": [
    "for i in tqdm(np.arange(0, temp.shape[0])):\n",
    "    if ((temp.iloc[i, 1] == df_grp.iloc[:, 1]) & \n",
    "        (temp.iloc[i,2]  == df_grp.iloc[:, 2])).sum() == 0:\n",
    "        temp.iloc[i,3] = 0"
   ]
  },
  {
   "cell_type": "code",
   "execution_count": null,
   "metadata": {},
   "outputs": [],
   "source": [
    "(temp['AMT']==0).sum()"
   ]
  },
  {
   "cell_type": "code",
   "execution_count": null,
   "metadata": {},
   "outputs": [],
   "source": [
    "# 제출 파일 만들기\n",
    "submission = pd.read_csv('./jeju_data_ver1/submission.csv', index_col=0)\n",
    "submission = submission.drop(['AMT'], axis=1)\n",
    "submission = submission.merge(temp, left_on=['REG_YYMM', 'CARD_SIDO_NM', 'STD_CLSS_NM'], right_on=['REG_YYMM', 'CARD_SIDO_NM', 'STD_CLSS_NM'], how='left')\n",
    "\n"
   ]
  },
  {
   "cell_type": "code",
   "execution_count": null,
   "metadata": {},
   "outputs": [],
   "source": [
    "df_04 = df_grp[df_grp['REG_YYMM']==202004]\n",
    "\n",
    "for i in tqdm(range(submission[submission['REG_YYMM']==202004].shape[0])):\n",
    "    for j in range(df_04.shape[0]):\n",
    "        if (submission.iloc[i,1] == df_04.iloc[j,1]) & (submission.iloc[i,2] == df_04.iloc[j,2]):\n",
    "            submission.iloc[i,-1] = df_04.iloc[j,-1]"
   ]
  },
  {
   "cell_type": "code",
   "execution_count": null,
   "metadata": {},
   "outputs": [],
   "source": [
    "submission = submission.fillna(0)"
   ]
  },
  {
   "cell_type": "code",
   "execution_count": null,
   "metadata": {},
   "outputs": [],
   "source": [
    "submission.index.name = 'id'\n",
    "submission.to_csv('submission12.csv', encoding='utf-8-sig')\n",
    "submission.head()"
   ]
  }
 ],
 "metadata": {
  "kernelspec": {
   "display_name": "Python 3",
   "language": "python",
   "name": "python3"
  },
  "language_info": {
   "codemirror_mode": {
    "name": "ipython",
    "version": 3
   },
   "file_extension": ".py",
   "mimetype": "text/x-python",
   "name": "python",
   "nbconvert_exporter": "python",
   "pygments_lexer": "ipython3",
   "version": "3.7.7"
  }
 },
 "nbformat": 4,
 "nbformat_minor": 4
}
